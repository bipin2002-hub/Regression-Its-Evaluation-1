{
  "nbformat": 4,
  "nbformat_minor": 0,
  "metadata": {
    "colab": {
      "provenance": []
    },
    "kernelspec": {
      "name": "python3",
      "display_name": "Python 3"
    },
    "language_info": {
      "name": "python"
    }
  },
  "cells": [
    {
      "cell_type": "markdown",
      "source": [
        "# Regression & Its Evaluation | Assignment"
      ],
      "metadata": {
        "id": "hTgiZIxYQy16"
      }
    },
    {
      "cell_type": "markdown",
      "source": [
        "**Question 1:  What is Simple Linear Regression?**"
      ],
      "metadata": {
        "id": "EUwyWFhDQ-bO"
      }
    },
    {
      "cell_type": "markdown",
      "source": [
        "**Answer:** Simple Linear Regression is a statistical technique used to model and analyze the relationship between two quantitative variables: one independent (predictor) variable and one dependent (response) variable, by fitting a straight line to the data.\n",
        "\n",
        "Mathematical Model:\n",
        "\n",
        "Simple linear regression expresses the dependent variable\n",
        "y as a linear function of the independent variable\n",
        "x using the formula:\n",
        "\n",
        "                     y=mx+c\n",
        "\n",
        "whare m is the slope (shows how much y changes for a unit change in x )of this line and c be the intercept (value of\n",
        "y when x=\n",
        "0\n",
        "x=0).\n"
      ],
      "metadata": {
        "id": "5pQlZzlbRGA0"
      }
    },
    {
      "cell_type": "markdown",
      "source": [
        "**Question 2: What are the key assumptions of Simple Linear Regression?**"
      ],
      "metadata": {
        "id": "IB2kqSovS97K"
      }
    },
    {
      "cell_type": "markdown",
      "source": [
        "**Answer :**  The key assumptions of Simple Linear Regression are essential for the model’s correctness and reliability. Violating these can lead to misleading results.\n",
        "\n",
        "**Main Assumptions**\n",
        "\n",
        "**1.Linearity:**\n",
        "The relationship between the independent variable (\n",
        "x) and dependent variable (\n",
        "y) must be linear—the change in\n",
        "y should be proportional to the change in\n",
        "x.\n",
        "\n",
        "**2.Independence of Errors :**\n",
        "Residuals (errors) should be independent, meaning the error for one observation shouldn’t affect another.\n",
        "\n",
        "**3.Homoscedasticity (Constant Variance)**:\n",
        "The variance of residuals should remain constant across all levels of the independent variable—not increase/decrease with\n",
        "x.\n",
        "\n",
        "**4.Normality of Errors**:\n",
        "Residuals should be normally distributed, which ensures valid confidence intervals and hypothesis tests for model parameters.\n",
        "\n"
      ],
      "metadata": {
        "id": "kM40d6CXTDUG"
      }
    },
    {
      "cell_type": "markdown",
      "source": [
        "**Question 3: What is heteroscedasticity, and why is it important to address in regression models?**"
      ],
      "metadata": {
        "id": "WXe-7fv_j5VN"
      }
    },
    {
      "cell_type": "markdown",
      "source": [
        "**Answer:** Heteroscedasticity refers to a situation in regression analysis where the variance of the residuals (errors) is not constant across all levels of the independent variables; instead, it systematically increases or decreases.\n",
        "\n",
        "**Heteroscedasticity:-**\n",
        "\n",
        "Heteroscedasticity (also spelled heteroskedasticity) occurs when the spread (variance) of residuals from a regression model changes as the value of a predictor variable changes.\n",
        "In contrast, homoscedasticity means that the variance of errors remains the same across the range of fitted values or independent variables.\n",
        "\n",
        "**Important to address in Regression Model:-**\n",
        "\n",
        "One of the key assumptions for ordinary least squares (OLS) regression is that residuals have constant variance (homoscedasticity).\n",
        "\n",
        "**If heteroscedasticity is present:-**\n",
        "\n",
        "1.OLS estimates of regression coefficients remain unbiased, but their standard errors become unreliable and inefficient.\n",
        "\n",
        "2.This can lead to incorrect conclusions about the significance of predictors, as hypothesis tests (like t-tests and F-tests) may be misleading.\n",
        "\n",
        "3.The model might over- or underestimate goodness-of-fit and risk inferences, leading to flawed decision-making in practical applications such as finance or econometrics.\n",
        "\n",
        "**Implications and Detection:-**\n",
        "\n",
        "1.Models with heteroscedasticity are less trustworthy because their error variance changes with predictor variables, often visualized as residuals fanning out or narrowing in plots.\n",
        "\n",
        "2.Common ways of detecting include residual vs. fitted value plots (conical patterns indicate heteroscedasticity) and statistical tests like the Breusch-Pagan or White tests.\n",
        "\n",
        "**Addressing the Issue:-**\n",
        "\n",
        ">.Addressing heteroscedasticity is important for:\n",
        "\n",
        ">.Reliable estimation of standard errors.\n",
        "\n",
        ">.Valid statistical inference and robust hypothesis testing.\n",
        "\n",
        ">.Improving the efficiency of regression estimates through methods such as generalized least squares or using heteroscedasticity-consistent standard errors.\n",
        "\n"
      ],
      "metadata": {
        "id": "HT8BOW8BkA2l"
      }
    },
    {
      "cell_type": "markdown",
      "source": [
        "**Question 4: What is Multiple Linear Regression?**"
      ],
      "metadata": {
        "id": "GLJVG1rwl-Ya"
      }
    },
    {
      "cell_type": "markdown",
      "source": [
        "**Answer:** **Multiple Linear Regression (MLR)** is a statistical technique used to model the relationship between one continuous dependent variable and two or more independent variables, using a linear equation.\n",
        "\n",
        "**Definition and Purpose:-**\n",
        "\n",
        "Multiple linear regression allows estimation of how multiple factors (independent variables) collectively influence a single outcome (dependent variable).\n",
        "\n",
        "It extends simple linear regression (which uses one independent variable) to analyze more complex relationships by including additional predictors.\n",
        "\n",
        "The technique is commonly used for prediction, explanation, and hypothesis testing in fields such as economics, data science, and social sciences.\n",
        "\n",
        "**Mathematical Formula**\n",
        "\n",
        "    y=β0+β1X1+β2X2+⋯+βnXn\n",
        "Where:\n",
        "y = dependent variable (outcome being predicted)\n",
        "\n",
        "X1,X2,..,Xn= independent variables (predictors), β0 = intercept (constant term),\n",
        "β1,β2,.βn = regression coefficients (slopes)\n",
        "\n",
        "\n",
        "**Assumptions:**\n",
        ">.The relationship between variables is linear.\n",
        "\n",
        ">.The errors (residuals) have constant variance (homoscedasticity).\n",
        "\n",
        ">.The independent variables are not highly correlated (to avoid multicollinearity).\n",
        "\n",
        ">.Residuals are normally distributed and observations are independent.\n",
        "\n"
      ],
      "metadata": {
        "id": "OWAu_Jb8mDFs"
      }
    },
    {
      "cell_type": "markdown",
      "source": [
        "**Question 5: What is polynomial regression, and how does it differ from linear\n",
        "regression?**"
      ],
      "metadata": {
        "id": "cLEVeF6EoFhS"
      }
    },
    {
      "cell_type": "markdown",
      "source": [
        "**Answer:-** **Polynomial regression** is a kind of regression modeling where the relationship between the independent variable(s) and the dependent variable is described using a polynomial of degree\n",
        "n, allowing for curved rather than straight-line fits.\n",
        "\n",
        "**Polynomial Regressio:-**\n",
        "Polynomial regression models the expected value of the dependent variable (\n",
        "y) as an\n",
        "nth-degree polynomial in the independent variable (\n",
        "x).\n",
        "\n",
        "**The general form is:**\n",
        "\n",
        "    y=β0+β1x+β2x^2+...+βnx^2\n",
        "\n",
        "where β0,β1,...,βn are model coefficients\n",
        "\n",
        ">Polynomial regression is useful for capturing non-linear relationships that a simple linear model cannot.\n",
        "\n",
        "**How It Differs from Linear Regression:-**\n",
        "\n",
        "Linear regression fits a straight line, expressed as\n",
        ">y= mx+c, where the relationship between\n",
        "x and\n",
        "y is linear.\n",
        "\n",
        "Polynomial regression can fit curves (parabolas, etc.), adding higher order terms (e.g.,x2,x3 ), enabling it to model data that displays bends or inflection points.\n",
        "Both techniques estimate coefficients linearly (using least squares), but polynomial regression represents a nonlinear relationship between\n",
        "x and\n",
        "y.\n",
        "\n",
        "\n",
        "\n"
      ],
      "metadata": {
        "id": "c4zIJd0AoPMS"
      }
    },
    {
      "cell_type": "markdown",
      "source": [
        "**Question 6:  Implement a Python program to fit a Simple Linear Regression model to\n",
        "the following sample data:**\n",
        "\n",
        "● X = [1, 2, 3, 4, 5]\n",
        "\n",
        "● Y = [2.1, 4.3, 6.1, 7.9, 10.2].\n",
        "\n",
        "**Plot the regression line over the data points.**"
      ],
      "metadata": {
        "id": "vFKJuVDSrvkD"
      }
    },
    {
      "cell_type": "code",
      "source": [
        "import numpy as np\n",
        "import matplotlib.pyplot as plt\n",
        "from sklearn.linear_model import LinearRegression\n",
        "\n",
        "X = np.array([1, 2, 3, 4, 5]).reshape(-1, 1)\n",
        "Y = np.array([2.1, 4.3, 6.1, 7.9, 10.2])\n",
        "\n",
        "# Fit linear regression\n",
        "model = LinearRegression()\n",
        "model.fit(X, Y)\n",
        "\n",
        "# Predict Y values\n",
        "Y_pred = model.predict(X)\n",
        "\n",
        "# Plot\n",
        "plt.scatter(X, Y, color='blue', label='Data Points')\n",
        "plt.plot(X, Y_pred, color='red', label='Regression Line')\n",
        "plt.xlabel('X')\n",
        "plt.ylabel('Y')\n",
        "plt.title('Simple Linear Regression Fit')\n",
        "plt.legend()\n",
        "plt.tight_layout()\n",
        "plt.show()"
      ],
      "metadata": {
        "colab": {
          "base_uri": "https://localhost:8080/",
          "height": 487
        },
        "id": "3AY3A1obkARf",
        "outputId": "cfc9946a-5a79-43c6-ac67-53a2c605211f"
      },
      "execution_count": null,
      "outputs": [
        {
          "output_type": "display_data",
          "data": {
            "text/plain": [
              "<Figure size 640x480 with 1 Axes>"
            ],
            "image/png": "[encoded data removed]"
          },
          "metadata": {}
        }
      ]
    },
    {
      "cell_type": "markdown",
      "source": [
        "**Question 7: Fit a Multiple Linear Regression model on this sample data:**\n",
        "\n",
        "● Area = [1200, 1500, 1800, 2000]\n",
        "\n",
        "● Rooms = [2, 3, 3, 4]\n",
        "\n",
        "● Price = [250000, 300000, 320000, 370000]\n",
        "\n",
        "**Check for multicollinearity using VIF and report the results.**"
      ],
      "metadata": {
        "id": "VpaG7L4Ssj2X"
      }
    },
    {
      "cell_type": "code",
      "source": [
        "import pandas as pd\n",
        "from sklearn.linear_model import LinearRegression\n",
        "from statsmodels.stats.outliers_influence import variance_inflation_factor\n",
        "\n",
        "area = [1200, 1500, 1800, 2000]\n",
        "rooms = [2, 3, 3, 4]\n",
        "price = [250000, 300000, 320000, 370000]\n",
        "\n",
        "# Create DataFrame\n",
        "data = pd.DataFrame({\n",
        "    \"Area\": area,\n",
        "    \"Rooms\": rooms,\n",
        "    \"Price\": price\n",
        "})\n",
        "\n",
        "# Define independent variables (X) and dependent variable (y)\n",
        "X = data[[\"Area\", \"Rooms\"]]\n",
        "y = data[\"Price\"]\n",
        "\n",
        "# Fit multiple linear regression model\n",
        "model = LinearRegression()\n",
        "model.fit(X, y)\n",
        "\n",
        "# Calculate VIF for each independent variable\n",
        "vif_data = pd.DataFrame()\n",
        "vif_data[\"Feature\"] = X.columns\n",
        "vif_data[\"VIF\"] = [variance_inflation_factor(X.values, i) for i in range(X.shape[1])]\n",
        "\n",
        "print(\"VIF results:\")\n",
        "print(vif_data)\n"
      ],
      "metadata": {
        "colab": {
          "base_uri": "https://localhost:8080/"
        },
        "id": "ntpnwj6etF2T",
        "outputId": "a7090d0c-365f-4bc4-e7a2-dbc6da6ff239"
      },
      "execution_count": null,
      "outputs": [
        {
          "output_type": "stream",
          "name": "stdout",
          "text": [
            "VIF results:\n",
            "  Feature         VIF\n",
            "0    Area  127.796923\n",
            "1   Rooms  127.796923\n"
          ]
        }
      ]
    },
    {
      "cell_type": "markdown",
      "source": [
        "**uestion 8:  Implement polynomial regression on the following data:**\n",
        "\n",
        "● X = [1, 2, 3, 4, 5]\n",
        "\n",
        "● Y = [2.2, 4.8, 7.5, 11.2, 14.7]\n",
        "**Fit a 2nd-degree polynomial and plot the resulting curve. **"
      ],
      "metadata": {
        "id": "D6CaR08V8qzK"
      }
    },
    {
      "cell_type": "code",
      "execution_count": null,
      "metadata": {
        "id": "-nPXZOm8QvRK",
        "colab": {
          "base_uri": "https://localhost:8080/",
          "height": 472
        },
        "outputId": "40955ffe-7723-43e2-f5a0-9ecbd56fd1bf"
      },
      "outputs": [
        {
          "output_type": "display_data",
          "data": {
            "text/plain": [
              "<Figure size 640x480 with 1 Axes>"
            ],
            "image/png": "[encoded data removed]"
          },
          "metadata": {}
        }
      ],
      "source": [
        "import numpy as np\n",
        "import matplotlib.pyplot as plt\n",
        "import matplotlib.pyplot as plt\n",
        "\n",
        "# Data\n",
        "X = np.array([1, 2, 3, 4, 5]).reshape(-1, 1)\n",
        "Y = np.array([2.2, 4.8, 7.5, 11.2, 14.7])\n",
        "\n",
        "# Train-test split (e.g., 80% train, 20% test)\n",
        "from sklearn.model_selection import train_test_split\n",
        "X_train, X_test, Y_train, Y_test = train_test_split(X, Y, test_size=0.2, random_state=42)\n",
        "\n",
        "# Create a pipeline that generates polynomial features and applies linear regression\n",
        "from sklearn.linear_model import LinearRegression\n",
        "from sklearn.preprocessing import PolynomialFeatures\n",
        "from sklearn.pipeline import make_pipeline\n",
        "model = make_pipeline(PolynomialFeatures(degree=2), LinearRegression())\n",
        "\n",
        "# Train model\n",
        "model.fit(X_train, Y_train)\n",
        "\n",
        "# Predict on test set\n",
        "Y_pred = model.predict(X_test)\n",
        "\n",
        "# Plot training data, test data, and polynomial regression curve\n",
        "X_curve = np.linspace(X.min(), X.max(), 100).reshape(-1, 1)\n",
        "Y_curve = model.predict(X_curve)\n",
        "\n",
        "plt.scatter(X_train, Y_train, label='Train Data', color='blue')\n",
        "plt.scatter(X_test, Y_test, label='Test Data', color='green')\n",
        "plt.plot(X_curve, Y_curve, label='2nd Degree Polynomial Fit', color='red')\n",
        "plt.xlabel('X')\n",
        "plt.ylabel('Y')\n",
        "plt.title('Polynomial Regression with Train-Test Split')\n",
        "plt.legend()\n",
        "plt.grid(True)\n",
        "plt.show()"
      ]
    },
    {
      "cell_type": "markdown",
      "source": [
        "**Question 9: Create a residuals plot for a regression model trained on this data:**\n",
        "\n",
        "● X = [10, 20, 30, 40, 50]\n",
        "\n",
        "● Y = [15, 35, 40, 50, 65]\n",
        "\n",
        "**Assess heteroscedasticity by examining the spread of residuals.**"
      ],
      "metadata": {
        "id": "hvUlA_2K9cqq"
      }
    },
    {
      "cell_type": "code",
      "source": [
        "import numpy as np\n",
        "import matplotlib.pyplot as plt\n",
        "from sklearn.linear_model import LinearRegression\n",
        "\n",
        "# Data\n",
        "X = np.array([10, 20, 30, 40, 50]).reshape(-1, 1)\n",
        "Y = np.array([15, 35, 40, 50, 65])\n",
        "\n",
        "# Train linear regression model\n",
        "model = LinearRegression()\n",
        "model.fit(X, Y)\n",
        "\n",
        "# Predicted values\n",
        "Y_pred = model.predict(X)\n",
        "\n",
        "# Calculate residuals\n",
        "residuals = Y - Y_pred\n",
        "\n",
        "# Plot residuals vs predicted values\n",
        "plt.scatter(Y_pred, residuals)\n",
        "plt.axhline(y=0, color='red', linestyle='--')\n",
        "plt.xlabel('Predicted Values')\n",
        "plt.ylabel('Residuals')\n",
        "plt.title('Residuals Plot')\n",
        "plt.grid(True)\n",
        "plt.show()"
      ],
      "metadata": {
        "colab": {
          "base_uri": "https://localhost:8080/",
          "height": 472
        },
        "id": "aH-2S0ww9kO3",
        "outputId": "2377ed0b-cd7d-4830-f1be-07bf38244057"
      },
      "execution_count": null,
      "outputs": [
        {
          "output_type": "display_data",
          "data": {
            "text/plain": [
              "<Figure size 640x480 with 1 Axes>"
            ],
            "image/png": "[encoded data removed]"
          },
          "metadata": {}
        }
      ]
    },
    {
      "cell_type": "markdown",
      "source": [
        "**Question 10: Imagine you are a data scientist working for a real estate company. You\n",
        "need to predict house prices using features like area, number of rooms, and location.\n",
        "However, you detect heteroscedasticity and multicollinearity in your regression\n",
        "model. Explain the steps you would take to address these issues and ensure a robust\n",
        "model.**"
      ],
      "metadata": {
        "id": "fomxIof2Ej8k"
      }
    },
    {
      "cell_type": "code",
      "source": [
        "import numpy as np\n",
        "import pandas as pd\n",
        "\n",
        "from statsmodels.stats.outliers_influence import variance_inflation_factor\n",
        "from sklearn.linear_model import Ridge\n",
        "from sklearn.model_selection import train_test_split, cross_val_score\n",
        "from sklearn.preprocessing import StandardScaler, PowerTransformer\n",
        "from sklearn.pipeline import make_pipeline\n",
        "\n",
        "\n",
        "# Sample synthetic dataset\n",
        "data = {\n",
        "    'area': [1500, 1800, 2400, 3000, 3500],\n",
        "    'num_rooms': [3, 4, 3, 5, 4],\n",
        "    'location_score': [7, 8, 6, 9, 7],\n",
        "    'price': [400000, 500000, 600000, 650000, 700000]\n",
        "}\n",
        "\n",
        "df = pd.DataFrame(data)\n",
        "\n",
        "# seprate the Independent variables and target\n",
        "X = df[['area', 'num_rooms', 'location_score']]\n",
        "Y = df['price']\n",
        "\n",
        "# Detect multicollinearity (VIF)\n",
        "X_const = sm.add_constant(X)\n",
        "vif = pd.DataFrame()\n",
        "vif['Feature'] = X.columns\n",
        "vif['VIF'] = [variance_inflation_factor(X_const.values, i + 1)\n",
        "              for i in range(len(X.columns))]\n",
        "\n",
        "print(\"Variance Inflation Factors:\\n\", vif)\n",
        "\n",
        "\n",
        "# Handle heteroscedasticity (Yeo-Johnson transform of target)\n",
        "pt = PowerTransformer(method='yeo-johnson')\n",
        "Y_transformed = pt.fit_transform(Y.values.reshape(-1, 1)).flatten()\n",
        "\n",
        "\n",
        "# Train-test split\n",
        "X_train, X_test, Y_train, Y_test = train_test_split(\n",
        "    X, Y_transformed, test_size=0.2, random_state=42\n",
        ")\n",
        "\n",
        "# Build pipeline: Scaling + Ridge Regression\n",
        "model = make_pipeline(StandardScaler(), Ridge(alpha=1.0))\n",
        "model.fit(X_train, Y_train)\n",
        "\n",
        "# Cross-validation (cv reduced due to small dataset)\n",
        "scores = cross_val_score(model, X_train, Y_train, cv=2,\n",
        "                         scoring='neg_mean_squared_error')\n",
        "print(\"Cross-validated MSE:\", -np.mean(scores))\n",
        "\n",
        "# Predictions and inverse transform\n",
        "\n",
        "Y_pred_transformed = model.predict(X_test)\n",
        "Y_pred = pt.inverse_transform(Y_pred_transformed.reshape(-1, 1)).flatten()\n",
        "print(\"Predicted prices:\", Y_pred)\n"
      ],
      "metadata": {
        "colab": {
          "base_uri": "https://localhost:8080/"
        },
        "id": "ca6qUCe-Er_9",
        "outputId": "7a0fbc1d-70b0-456c-95a5-d8c33ee0f72f"
      },
      "execution_count": null,
      "outputs": [
        {
          "output_type": "stream",
          "name": "stdout",
          "text": [
            "Variance Inflation Factors:\n",
            "           Feature        VIF\n",
            "0            area  14.847826\n",
            "1       num_rooms  70.689855\n",
            "2  location_score  49.720290\n",
            "Cross-validated MSE: 2.316082623886828\n",
            "Predicted prices: [513165.26707284]\n"
          ]
        }
      ]
    }
  ]
}